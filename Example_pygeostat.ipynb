{
  "nbformat": 4,
  "nbformat_minor": 0,
  "metadata": {
    "colab": {
      "name": "Example_pygeostat.ipynb",
      "provenance": [],
      "toc_visible": true,
      "authorship_tag": "ABX9TyNpDMLAsSXHJ7BmL5QZrpXJ",
      "include_colab_link": true
    },
    "kernelspec": {
      "name": "python3",
      "display_name": "Python 3"
    },
    "language_info": {
      "name": "python"
    }
  },
  "cells": [
    {
      "cell_type": "markdown",
      "metadata": {
        "id": "view-in-github",
        "colab_type": "text"
      },
      "source": [
        "<a href=\"https://colab.research.google.com/github/attilalr/Material_Curso_Python_LPM_UFRGS/blob/main/Example_pygeostat.ipynb\" target=\"_parent\"><img src=\"https://colab.research.google.com/assets/colab-badge.svg\" alt=\"Open In Colab\"/></a>"
      ]
    },
    {
      "cell_type": "markdown",
      "metadata": {
        "id": "hKIEMMOnpr7_"
      },
      "source": [
        "\n",
        "#Python script Pygeostat example in Colaboratory Google.\n",
        "\n",
        "### The objective is to replicate some examples seen in http://www.ccgalberta.com/pygeostat/examples.html"
      ]
    },
    {
      "cell_type": "code",
      "metadata": {
        "colab": {
          "base_uri": "https://localhost:8080/"
        },
        "id": "7ayagTdho3DJ",
        "outputId": "41521ccf-8f89-4ceb-e5e0-f1e58406005d"
      },
      "source": [
        "import numpy as np\n",
        "import pandas as pd\n",
        "import matplotlib.pyplot as plt\n",
        "\n",
        "import os, shutil, sys\n",
        "\n",
        "try:\n",
        "  import pygeostat as gs\n",
        "except:\n",
        "  !pip3 install pygeostat\n",
        "  import pygeostat as gs"
      ],
      "execution_count": 1,
      "outputs": [
        {
          "output_type": "stream",
          "text": [
            "/usr/local/lib/python3.7/dist-packages/statsmodels/tools/_testing.py:19: FutureWarning: pandas.util.testing is deprecated. Use the functions in the public API at pandas.testing instead.\n",
            "  import pandas.util.testing as tm\n"
          ],
          "name": "stderr"
        }
      ]
    },
    {
      "cell_type": "code",
      "metadata": {
        "id": "M-kTm8gD35bA"
      },
      "source": [
        "work_folder = '/content/temp_folder'"
      ],
      "execution_count": 2,
      "outputs": []
    },
    {
      "cell_type": "markdown",
      "metadata": {
        "id": "C-NyBCqMLNLk"
      },
      "source": [
        "### Getting and setting up the executables\n",
        "\n",
        "The next cell will download the gslib executables and chmod +x all files in the executable folder."
      ]
    },
    {
      "cell_type": "code",
      "metadata": {
        "colab": {
          "base_uri": "https://localhost:8080/"
        },
        "id": "HERe_baB13Pj",
        "outputId": "4950cc59-b1c0-4162-d8ce-5ae2a16a1216"
      },
      "source": [
        "# download the executables\n",
        "gs.get_executable()\n",
        "\n",
        "# to retrieve the executables folder lets find a previous known program [maybe there is a routine in pygeostat to get the folder]\n",
        "example_prog = 'kt3d'\n",
        "\n",
        "string_path_exec = os.popen('find /usr/local/lib -name \\''+example_prog+'\\'|head -n1').read()\n",
        "string_path_exec = '/'.join(string_path_exec.split('/')[:-1])+'/'\n",
        "print ('Executables folder: {}'.format(string_path_exec))\n",
        "\n",
        "string_cmd = 'chmod +x '+string_path_exec+'*'\n",
        "print ('Alterando permissão de execução: {}'.format(string_cmd))\n",
        "os.system(string_cmd)\n",
        "\n",
        "print ('Files under the executables folder:')\n",
        "for file_ in os.listdir(string_path_exec):\n",
        "  print (file_)"
      ],
      "execution_count": 3,
      "outputs": [
        {
          "output_type": "stream",
          "text": [
            "The software is available under gslib license agreement (http://www.gslib.com)\n",
            "Executables folder: /usr/local/lib/python3.7/dist-packages/pygeostat/executable/\n",
            "Alterando permissão de execução: chmod +x /usr/local/lib/python3.7/dist-packages/pygeostat/executable/*\n",
            "Files under the executables folder:\n",
            "sisim_gs\n",
            "sisim\n",
            "pixelplt\n",
            "Info.txt\n",
            "backtr\n",
            "ellipsim\n",
            "probplt\n",
            "locmap\n",
            "bicalib\n",
            "declus\n",
            "trans\n",
            "varmap\n",
            "ik3d\n",
            "addcoord\n",
            "lusim\n",
            "gamv\n",
            "postik\n",
            "nscore\n",
            "pfsim\n",
            "rotcoord\n",
            "gtsim\n",
            "vargplt\n",
            "scatplt\n",
            "anneal\n",
            "vmodel\n",
            "histsmth\n",
            "sasim\n",
            "cokb3d\n",
            "histplt\n",
            "kb2d\n",
            "scatsmth\n",
            "draw\n",
            "qpplt\n",
            "bigaus\n",
            "postsim\n",
            "sgsim\n",
            "gam\n",
            "bivplt\n",
            "sisim_lm\n",
            "plotem\n",
            "kt3d\n"
          ],
          "name": "stdout"
        }
      ]
    },
    {
      "cell_type": "markdown",
      "metadata": {
        "id": "xSiuh13xLkho"
      },
      "source": [
        "Setting work folder."
      ]
    },
    {
      "cell_type": "code",
      "metadata": {
        "colab": {
          "base_uri": "https://localhost:8080/"
        },
        "id": "l36xzH0S3hhy",
        "outputId": "f4c31d03-7cd7-426e-e810-6e24825f1339"
      },
      "source": [
        "try:\n",
        "    os.mkdir(work_folder)\n",
        "    print(\"Folder {} created.\".format(work_folder)) \n",
        "except FileExistsError:\n",
        "    print(\"Folder {} already exists.\".format(work_folder)) \n"
      ],
      "execution_count": 4,
      "outputs": [
        {
          "output_type": "stream",
          "text": [
            "Folder /content/temp_folder already exists.\n"
          ],
          "name": "stdout"
        }
      ]
    },
    {
      "cell_type": "markdown",
      "metadata": {
        "id": "4nMExI7aLw3x"
      },
      "source": [
        "In the next cell we are going to copy an example data to the work folder and open it."
      ]
    },
    {
      "cell_type": "code",
      "metadata": {
        "colab": {
          "base_uri": "https://localhost:8080/"
        },
        "id": "JbwXEbi84dsT",
        "outputId": "93705fe0-dc7e-4c8c-c7a0-87c8871f0497"
      },
      "source": [
        "example_datafile = 'point2d_surf'\n",
        "\n",
        "# Lets put the data file in the work folder\n",
        "dfl = gs.ExampleData(example_datafile)\n",
        "shutil.copy(dfl.flname, work_folder)\n",
        "print ('Files list in work folder {}:'.format(work_folder))\n",
        "print (os.listdir(work_folder))\n",
        "\n",
        "dfl = gs.DataFile(flname=work_folder+'/'+example_datafile+'.dat')\n",
        "\n",
        "datafile_name = example_datafile+'.dat'"
      ],
      "execution_count": 5,
      "outputs": [
        {
          "output_type": "stream",
          "text": [
            "Files list in work folder /content/temp_folder:\n",
            "['point2d_surf.dat', 'nscore.trn', 'nscore.out']\n"
          ],
          "name": "stdout"
        }
      ]
    },
    {
      "cell_type": "markdown",
      "metadata": {
        "id": "UXJfJMgXN5zh"
      },
      "source": [
        "### Lets 'see' the data first"
      ]
    },
    {
      "cell_type": "code",
      "metadata": {
        "colab": {
          "base_uri": "https://localhost:8080/",
          "height": 852
        },
        "id": "0ULIy5397ai5",
        "outputId": "eb373d81-e2cc-4ee0-b3a7-e8328670e906"
      },
      "source": [
        "for var in dfl.variables:\n",
        "    gs.histogram_plot(dfl, var=var, figsize = (7,4))"
      ],
      "execution_count": 6,
      "outputs": [
        {
          "output_type": "stream",
          "text": [
            "findfont: Font family ['Calibri'] not found. Falling back to DejaVu Sans.\n",
            "findfont: Font family ['Calibri'] not found. Falling back to DejaVu Sans.\n",
            "findfont: Font family ['Calibri'] not found. Falling back to DejaVu Sans.\n"
          ],
          "name": "stderr"
        },
        {
          "output_type": "display_data",
          "data": {
            "image/png": "[encoded data removed]",
            "text/plain": [
              "<Figure size 504x288 with 2 Axes>"
            ]
          },
          "metadata": {
            "tags": []
          }
        },
        {
          "output_type": "display_data",
          "data": {
            "image/png": "[encoded data removed]",
            "text/plain": [
              "<Figure size 504x288 with 2 Axes>"
            ]
          },
          "metadata": {
            "tags": []
          }
        },
        {
          "output_type": "display_data",
          "data": {
            "image/png": "[encoded data removed]",
            "text/plain": [
              "<Figure size 504x288 with 2 Axes>"
            ]
          },
          "metadata": {
            "tags": []
          }
        }
      ]
    },
    {
      "cell_type": "markdown",
      "metadata": {
        "id": "T3SGmbsIMNHQ"
      },
      "source": [
        "### Executing the first gslib program: nscore\n",
        "\n",
        "Now it is time to execute a gslib program. The first step is to define the procedure to get the blank parameters file."
      ]
    },
    {
      "cell_type": "code",
      "metadata": {
        "colab": {
          "base_uri": "https://localhost:8080/"
        },
        "id": "HWTxbfbUlH7l",
        "outputId": "0bfab095-7699-44a1-b966-dd80fb787f6a"
      },
      "source": [
        "# choose the program\n",
        "program = 'nscore'\n",
        "\n",
        "# execute via system call\n",
        "string_cmd = f'echo \\'\\'|{string_path_exec}{program}'\n",
        "print (string_cmd)\n",
        "print (os.popen(string_cmd).read())\n",
        "\n",
        "# display the template parameter file\n",
        "print ()\n",
        "print ('### Copy the parameter file content below ###')\n",
        "!cat /content/{program}.par"
      ],
      "execution_count": 7,
      "outputs": [
        {
          "output_type": "stream",
          "text": [
            "echo ''|/usr/local/lib/python3.7/dist-packages/pygeostat/executable/nscore\n",
            "\n",
            " NSCORE Version: 3.000\n",
            "\n",
            " Which parameter file do you want to use?\n",
            "  data file = ../data/cluster.dat                     \n",
            "  columns =  3 5\n",
            "  trimming limits =  -1.E+21 1.E+21\n",
            "  consider a different ref. dist. (1=yes) =  0\n",
            "  file with reference distribution = ../histsmth/histsmth.out -              \n",
            "  columns =  1 2\n",
            "  file for output = nscore.out                              \n",
            "  file for transformation table = nscore.trn                              \n",
            " ERROR: ../data/cluster.dat                                                                                                                                                                                                                                                                                                                                                                                                                                                                                                              does not exist\n",
            "        this file is needed! \n",
            "\n",
            "\n",
            "### Copy the parameter file content below ###\n",
            "                  Parameters for NSCORE\n",
            "                  *********************\n",
            "\n",
            "START OF PARAMETERS:\n",
            "../data/cluster.dat      -file with data\n",
            "3   5                    -  columns for variable and weight\n",
            "-1.0e21   1.0e21         -  trimming limits\n",
            "0                        -1=transform according to specified ref. dist.\n",
            "../histsmth/histsmth.out -  file with reference dist.\n",
            "1   2                    -  columns for variable and weight\n",
            "nscore.out               -file for output\n",
            "nscore.trn               -file for output transformation table\n"
          ],
          "name": "stdout"
        }
      ]
    },
    {
      "cell_type": "markdown",
      "metadata": {
        "id": "ZI8XTLyCTwTx"
      },
      "source": [
        "Now we copy the parstring from the last cell's output.\n",
        "At the time of writing this script the disponible nscore software accept just one column at time.\n",
        "\n",
        "Although it is easy to normal score all the desired columns using pandas we are going to continue to demonstrate how to execute a gslib program."
      ]
    },
    {
      "cell_type": "code",
      "metadata": {
        "colab": {
          "base_uri": "https://localhost:8080/"
        },
        "id": "HCr1IS7pT23F",
        "outputId": "a4982f60-a93e-4251-c2c0-0df9508b1409"
      },
      "source": [
        "nscore_p = gs.Program(program = 'nscore')\n",
        "\n",
        "# parstring fields to fill in\n",
        "\n",
        "# input\n",
        "datafile_name = os.path.join(work_folder, dfl.flname)\n",
        "\n",
        "# parameters\n",
        "tmin = gs.Parameters['data.tmin']\n",
        "column = 4\n",
        "\n",
        "# nscore output filenames\n",
        "nscore_outfl = os.path.join(work_folder, 'nscore.out')\n",
        "trnfl = os.path.join(work_folder, 'nscore.trn')\n",
        "\n",
        "parstr = f\"\"\"\n",
        "                  Parameters for NSCORE\n",
        "                  *********************\n",
        "\n",
        "START OF PARAMETERS:\n",
        "{datafile_name}      -file with data\n",
        "{column}   0              -  columns for variable and weight\n",
        "{tmin}   1.0e21         -  trimming limits\n",
        "0                        -1=transform according to specified ref. dist.\n",
        "nofile.out -  file with reference dist.\n",
        "1   2                    -  columns for variable and weight\n",
        "{nscore_outfl}               -file for output\n",
        "{trnfl}               -file for output transformation table\n",
        "\"\"\"\n",
        "\n",
        "print (parstr)\n",
        "\n",
        "nscore_p.run(parstr=parstr, quiet=False, liveoutput=True)"
      ],
      "execution_count": 8,
      "outputs": [
        {
          "output_type": "stream",
          "text": [
            "Unable to find the provided program! Trying to use the executable pool shipped with pygeostat!\n",
            "\n",
            "                  Parameters for NSCORE\n",
            "                  *********************\n",
            "\n",
            "START OF PARAMETERS:\n",
            "/content/temp_folder/point2d_surf.dat      -file with data\n",
            "4   0              -  columns for variable and weight\n",
            "-998.0   1.0e21         -  trimming limits\n",
            "0                        -1=transform according to specified ref. dist.\n",
            "nofile.out -  file with reference dist.\n",
            "1   2                    -  columns for variable and weight\n",
            "/content/temp_folder/nscore.out               -file for output\n",
            "/content/temp_folder/nscore.trn               -file for output transformation table\n",
            "\n",
            "Calling:  ['/usr/local/lib/python3.7/dist-packages/pygeostat/executable/nscore', 'temp']\n",
            "\n",
            " NSCORE Version: 3.000\n",
            "\n",
            "  data file = /content/temp_folder/point2d_surf.dat   \n",
            "  columns =  4 0\n",
            "  trimming limits =  -998. 1.E+21\n",
            "  consider a different ref. dist. (1=yes) =  0\n",
            "  file with reference distribution = nofile.out -                            \n",
            "  columns =  1 2\n",
            "  file for output = /content/temp_folder/nscore.out         \n",
            "  file for transformation table = /content/temp_folder/nscore.trn         \n",
            "\n",
            " NSCORE Version: 3.000 Finished\n",
            "\n"
          ],
          "name": "stdout"
        }
      ]
    },
    {
      "cell_type": "code",
      "metadata": {
        "colab": {
          "base_uri": "https://localhost:8080/",
          "height": 221
        },
        "id": "wEBtQrIfd1XY",
        "outputId": "5bc97727-c98a-4c56-c9b8-4c4516598152"
      },
      "source": [
        "# open the nscore output data\n",
        "dfl_ns = gs.DataFile(nscore_outfl)\n",
        "print (dfl_ns.flname)\n",
        "dfl_ns.head()"
      ],
      "execution_count": 9,
      "outputs": [
        {
          "output_type": "stream",
          "text": [
            "/content/temp_folder/nscore.out\n"
          ],
          "name": "stdout"
        },
        {
          "output_type": "execute_result",
          "data": {
            "text/html": [
              "<div>\n",
              "<style scoped>\n",
              "    .dataframe tbody tr th:only-of-type {\n",
              "        vertical-align: middle;\n",
              "    }\n",
              "\n",
              "    .dataframe tbody tr th {\n",
              "        vertical-align: top;\n",
              "    }\n",
              "\n",
              "    .dataframe thead th {\n",
              "        text-align: right;\n",
              "    }\n",
              "</style>\n",
              "<table border=\"1\" class=\"dataframe\">\n",
              "  <thead>\n",
              "    <tr style=\"text-align: right;\">\n",
              "      <th></th>\n",
              "      <th>HoleID</th>\n",
              "      <th>X</th>\n",
              "      <th>Y</th>\n",
              "      <th>Top Elevation</th>\n",
              "      <th>Thickness</th>\n",
              "      <th>Base Elevation</th>\n",
              "      <th>NS:Top Elevation</th>\n",
              "    </tr>\n",
              "  </thead>\n",
              "  <tbody>\n",
              "    <tr>\n",
              "      <th>0</th>\n",
              "      <td>3.0</td>\n",
              "      <td>405.63</td>\n",
              "      <td>2135.75</td>\n",
              "      <td>376.69</td>\n",
              "      <td>47.98</td>\n",
              "      <td>328.71</td>\n",
              "      <td>-0.93038</td>\n",
              "    </tr>\n",
              "    <tr>\n",
              "      <th>1</th>\n",
              "      <td>5.0</td>\n",
              "      <td>235.89</td>\n",
              "      <td>1865.70</td>\n",
              "      <td>379.69</td>\n",
              "      <td>51.00</td>\n",
              "      <td>328.69</td>\n",
              "      <td>0.24772</td>\n",
              "    </tr>\n",
              "    <tr>\n",
              "      <th>2</th>\n",
              "      <td>6.0</td>\n",
              "      <td>325.03</td>\n",
              "      <td>2055.81</td>\n",
              "      <td>376.86</td>\n",
              "      <td>49.34</td>\n",
              "      <td>327.52</td>\n",
              "      <td>-0.81855</td>\n",
              "    </tr>\n",
              "    <tr>\n",
              "      <th>3</th>\n",
              "      <td>7.0</td>\n",
              "      <td>675.54</td>\n",
              "      <td>2195.25</td>\n",
              "      <td>381.49</td>\n",
              "      <td>48.75</td>\n",
              "      <td>332.74</td>\n",
              "      <td>0.88111</td>\n",
              "    </tr>\n",
              "    <tr>\n",
              "      <th>4</th>\n",
              "      <td>8.0</td>\n",
              "      <td>355.73</td>\n",
              "      <td>1995.74</td>\n",
              "      <td>376.97</td>\n",
              "      <td>48.94</td>\n",
              "      <td>328.03</td>\n",
              "      <td>-0.77366</td>\n",
              "    </tr>\n",
              "  </tbody>\n",
              "</table>\n",
              "</div>"
            ],
            "text/plain": [
              "   HoleID       X        Y  ...  Thickness  Base Elevation  NS:Top Elevation\n",
              "0     3.0  405.63  2135.75  ...      47.98          328.71          -0.93038\n",
              "1     5.0  235.89  1865.70  ...      51.00          328.69           0.24772\n",
              "2     6.0  325.03  2055.81  ...      49.34          327.52          -0.81855\n",
              "3     7.0  675.54  2195.25  ...      48.75          332.74           0.88111\n",
              "4     8.0  355.73  1995.74  ...      48.94          328.03          -0.77366\n",
              "\n",
              "[5 rows x 7 columns]"
            ]
          },
          "metadata": {
            "tags": []
          },
          "execution_count": 9
        }
      ]
    },
    {
      "cell_type": "code",
      "metadata": {
        "colab": {
          "base_uri": "https://localhost:8080/",
          "height": 277
        },
        "id": "AUHQcKyreY1x",
        "outputId": "52f7ea99-a8e6-4b24-806d-f529f7e4606c"
      },
      "source": [
        "for var in dfl_ns.variables:\n",
        "    if 'ns' in var.lower():\n",
        "        gs.histogram_plot(dfl_ns, var=var, color='g', figsize = (7,4))"
      ],
      "execution_count": 10,
      "outputs": [
        {
          "output_type": "display_data",
          "data": {
            "image/png": "[encoded data removed]",
            "text/plain": [
              "<Figure size 504x288 with 2 Axes>"
            ]
          },
          "metadata": {
            "tags": []
          }
        }
      ]
    }
  ]
}